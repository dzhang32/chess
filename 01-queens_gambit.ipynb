{
 "cells": [
  {
   "cell_type": "markdown",
   "metadata": {},
   "source": [
    "# How has the Netflix TV show *The Queen's Gambit* impacted online chess?\n",
    "\n",
    "**Author:** David Zhang **Email:** dyzhang32@gmail.com\n",
    "\n",
    "---"
   ]
  },
  {
   "cell_type": "markdown",
   "metadata": {},
   "source": [
    "The queen's gambit chess opening is played at the highest levels of chess, characterised by moves: **1.d4 d5 3.c4**. [*The Queen's Gambit*](https://en.wikipedia.org/wiki/The_Queen%27s_Gambit_(miniseries)) TV show depicts Beth Harmon, a chess prodigy who struggles with drug addiction, conquer a male-dominated chess world. \n",
    "\n",
    "It's no secret that the popularity of *The Queen's Gambit* has caused a [recent surge in chess interest](https://www.nytimes.com/2020/11/23/arts/television/chess-set-board-sales.html). In fact, I myself am one of the many victims, having been re-inspired to pick up online chess. Inevitably, this has snowballed into a bit of an addiction, having played [375 rapid games in the last month](https://www.chess.com/games/archive?gameOwner=my_game&gameType=live&gameTypeslive%5B%5D=rapid&rated=rated&endDate%5Bdate%5D=02/01/2021&startDate%5Bdate%5D=01/01/2021&timeSort=desc), with most of my games as white beginning with the queen's gambit when possible. \n",
    "\n",
    "This has lead me to wonder how many other's have been bitten by *The Queen's Gambit* bug and how this would be reflected in online chess. In particular, I expect this would be identifiable through the 3 following metrics: \n",
    "   \n",
    "   1. An increase in the **number of new players** joining online chess websites. \n",
    "   2. An increase in the **popularity of the Queen's Gambit and Sicilian openings**. \n",
    "   3. An increase in the **re-uptake of chess by inactive users**. \n",
    "    \n",
    "Here, I try to test these hypotheses using the [chess.com](https://www.chess.com/) data. "
   ]
  },
  {
   "cell_type": "markdown",
   "metadata": {},
   "source": [
    "### Importing modules and functions\n",
    "\n",
    "Importing required modules and functions I've written to query the chess.com API [here](https://github.com/dzhang32/chess/blob/main/chess_api.py). "
   ]
  },
  {
   "cell_type": "code",
   "execution_count": 1,
   "metadata": {},
   "outputs": [],
   "source": [
    "import chess_api as chapi\n",
    "import pandas as pd\n",
    "from dateutil.relativedelta import relativedelta\n",
    "import seaborn as sns\n",
    "import matplotlib.pyplot as plt"
   ]
  },
  {
   "cell_type": "markdown",
   "metadata": {},
   "source": [
    "### 1. Number of new players\n",
    "\n",
    "*The Queen's Gambit* was released in the UK Netflix on the **23rd October 2020**. In order to see the impact of this on the number of players joining online chess, I'll use the chess.com API to download all the UK-associated players that have joined within a 4 month window before or after October 23rd. \n",
    "\n",
    "To begin, let's grab all the players who have the UK flag. It's worth noting that we're limited by how accurately this reflects a user's country of residence during the period following *The Queen's Gambit r*elease."
   ]
  },
  {
   "cell_type": "code",
   "execution_count": 2,
   "metadata": {},
   "outputs": [
    {
     "name": "stdout",
     "output_type": "stream",
     "text": [
      "There are 231904 players that have the UK flag.\n"
     ]
    }
   ],
   "source": [
    "uk_players = chapi.get_json(\"https://api.chess.com/pub/country/GB/players/\")[\"players\"]\n",
    "\n",
    "print(\"There are \" + str(len(uk_players)) + \" players that have the UK flag.\")"
   ]
  },
  {
   "cell_type": "markdown",
   "metadata": {},
   "source": [
    "Next, let's find date that these user's joined chess.com. "
   ]
  },
  {
   "cell_type": "code",
   "execution_count": 14,
   "metadata": {},
   "outputs": [
    {
     "data": {
      "text/html": [
       "<div>\n",
       "<style scoped>\n",
       "    .dataframe tbody tr th:only-of-type {\n",
       "        vertical-align: middle;\n",
       "    }\n",
       "\n",
       "    .dataframe tbody tr th {\n",
       "        vertical-align: top;\n",
       "    }\n",
       "\n",
       "    .dataframe thead th {\n",
       "        text-align: right;\n",
       "    }\n",
       "</style>\n",
       "<table border=\"1\" class=\"dataframe\">\n",
       "  <thead>\n",
       "    <tr style=\"text-align: right;\">\n",
       "      <th></th>\n",
       "      <th>joined</th>\n",
       "    </tr>\n",
       "  </thead>\n",
       "  <tbody>\n",
       "    <tr>\n",
       "      <th>0</th>\n",
       "      <td>2008-12-18 11:39:20</td>\n",
       "    </tr>\n",
       "    <tr>\n",
       "      <th>1</th>\n",
       "      <td>2011-07-20 21:39:45</td>\n",
       "    </tr>\n",
       "    <tr>\n",
       "      <th>2</th>\n",
       "      <td>2011-02-19 03:40:09</td>\n",
       "    </tr>\n",
       "    <tr>\n",
       "      <th>3</th>\n",
       "      <td>2012-11-30 13:40:17</td>\n",
       "    </tr>\n",
       "    <tr>\n",
       "      <th>4</th>\n",
       "      <td>2011-04-07 20:36:09</td>\n",
       "    </tr>\n",
       "  </tbody>\n",
       "</table>\n",
       "</div>"
      ],
      "text/plain": [
       "               joined\n",
       "0 2008-12-18 11:39:20\n",
       "1 2011-07-20 21:39:45\n",
       "2 2011-02-19 03:40:09\n",
       "3 2012-11-30 13:40:17\n",
       "4 2011-04-07 20:36:09"
      ]
     },
     "execution_count": 14,
     "metadata": {},
     "output_type": "execute_result"
    }
   ],
   "source": [
    "# due to having to query one player at a time\n",
    "# this process takes a while\n",
    "# to save rerun time, we'll save the join dates as a .csv\n",
    "join_dates_path = [path for path in listdir(\"data\") if \"uk_players_joined\" in path]\n",
    "\n",
    "if len(join_dates_path) == 0:\n",
    "\n",
    "    join_dates = []\n",
    "\n",
    "    for i in range(10):\n",
    "\n",
    "        player = chapi.get_player(uk_players[i])\n",
    "        join_dates.append(player[\"joined\"])\n",
    "\n",
    "    join_dates = pd.DataFrame({\"joined\": join_dates})\n",
    "\n",
    "    # convert timestamps to dates\n",
    "    join_dates[\"joined\"] = [datetime.fromtimestamp(ts) for ts in join_dates[\"joined\"].tolist()]\n",
    "    join_dates.to_csv(\"data/uk_players_joined_\" + date.today().strftime(\"%d_%m_%Y\") + \".csv\", index = False)\n",
    "\n",
    "else:\n",
    "\n",
    "    join_dates = pd.read_csv(\"data/\" + join_dates_path[0], parse_dates = [\"joined\"])\n",
    "\n",
    "join_dates.head()"
   ]
  },
  {
   "cell_type": "markdown",
   "metadata": {},
   "source": [
    "With the joining dates downloaded and formatted we can filter for those dates residing in our window of interest, marking the release date."
   ]
  },
  {
   "cell_type": "code",
   "execution_count": 15,
   "metadata": {},
   "outputs": [],
   "source": [
    "qg_date = datetime.strptime(\"2020-10-23\", \"%Y-%m-%d\")\n",
    "earliest = qg_date - relativedelta(months = 4)\n",
    "latest = qg_date + relativedelta(months = 4)\n",
    "join_dates_qg = join_dates[(join_dates[\"joined\"] >= earliest) & (join_dates[\"joined\"] <= latest)]"
   ]
  },
  {
   "cell_type": "code",
   "execution_count": 16,
   "metadata": {},
   "outputs": [
    {
     "data": {
      "text/plain": [
       "pandas._libs.tslibs.timestamps.Timestamp"
      ]
     },
     "execution_count": 16,
     "metadata": {},
     "output_type": "execute_result"
    }
   ],
   "source": [
    "join_dates[\"joined\"][0].__class__"
   ]
  },
  {
   "cell_type": "code",
   "execution_count": 19,
   "metadata": {},
   "outputs": [
    {
     "data": {
      "text/plain": [
       "<matplotlib.lines.Line2D at 0x7fea0f5b2d60>"
      ]
     },
     "execution_count": 19,
     "metadata": {},
     "output_type": "execute_result"
    },
    {
     "data": {
      "image/png": "[encoded data removed]",
      "text/plain": [
       "<Figure size 1080x432 with 1 Axes>"
      ]
     },
     "metadata": {},
     "output_type": "display_data"
    }
   ],
   "source": [
    "sns.set_style(\"ticks\")\n",
    "sns.set_context(\"talk\")\n",
    "joining_fig = sns.displot(\n",
    "    data = join_dates_qg, \n",
    "    x = \"joined\", \n",
    "    bins = 25, \n",
    "    kde = True, \n",
    "    color = \"g\"\n",
    ")\n",
    "joining_fig.set(xlabel = \"Joining date\", ylabel = \"Number of users\")\n",
    "joining_fig.fig.set_figwidth(15)\n",
    "joining_fig.fig.set_figheight(6)\n",
    "plt.axvline(qg_date, color = 'r', linestyle = \"--\")"
   ]
  },
  {
   "cell_type": "code",
   "execution_count": null,
   "metadata": {},
   "outputs": [],
   "source": []
  }
 ],
 "metadata": {
  "kernelspec": {
   "display_name": "Python 3",
   "language": "python",
   "name": "python3"
  },
  "language_info": {
   "codemirror_mode": {
    "name": "ipython",
    "version": 3
   },
   "file_extension": ".py",
   "mimetype": "text/x-python",
   "name": "python",
   "nbconvert_exporter": "python",
   "pygments_lexer": "ipython3",
   "version": "3.8.5"
  }
 },
 "nbformat": 4,
 "nbformat_minor": 4
}
