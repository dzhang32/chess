{
 "cells": [
  {
   "cell_type": "markdown",
   "metadata": {},
   "source": [
    "# How did the Netflix TV show the Queen's Gambit impact online chess?"
   ]
  },
  {
   "cell_type": "markdown",
   "metadata": {},
   "source": [
    "The queen's gambit as a chess opening is played at the highest levels of chess, characterised by: **1. d4, 2. d5, 3. c4**. [*The Queen's Gambit*](https://en.wikipedia.org/wiki/The_Queen%27s_Gambit_(miniseries)) as a TV show depicts Beth Harmon, a chess prodigy who struggles with drug addiction, conquer a male-dominated chess world. \n",
    "\n",
    "It's no secret that the popularity of *The Queen's Gambit* has caused a [surge in chess interest](https://www.nytimes.com/2020/11/23/arts/television/chess-set-board-sales.html). In fact, I myself am one of the victims, having been re-inspired to pick up online chess more consistently. This has inevitably snowballed into a bit of an addiction, having played [375 rapid games in the last month](https://www.chess.com/games/archive?gameOwner=my_game&gameType=live&gameTypeslive%5B%5D=rapid&rated=rated&endDate%5Bdate%5D=02/01/2021&startDate%5Bdate%5D=01/01/2021&timeSort=desc), with the majority of my games as white beginning with queen's gambit. \n",
    "\n",
    "This lead me to wonder how many other's have been bitten by *The Queen's Gambit* bug. In particular, I think this would be identifiable through metrics in online chess in the 3 following ways: \n",
    "   \n",
    "    1. An increase in the number of new players joining online chess websites. \n",
    "    2. An increase in the proportion of new players that play either the Queen's Gambit or Sicilian openings. \n",
    "    3. An increase in the number of games played by inactive users. \n",
    "    \n",
    "Here, I try the test these hypotheses using the [chess.com](https://www.chess.com/) data. "
   ]
  },
  {
   "cell_type": "code",
   "execution_count": null,
   "metadata": {},
   "outputs": [],
   "source": []
  }
 ],
 "metadata": {
  "kernelspec": {
   "display_name": "Python 3",
   "language": "python",
   "name": "python3"
  },
  "language_info": {
   "codemirror_mode": {
    "name": "ipython",
    "version": 3
   },
   "file_extension": ".py",
   "mimetype": "text/x-python",
   "name": "python",
   "nbconvert_exporter": "python",
   "pygments_lexer": "ipython3",
   "version": "3.8.5"
  }
 },
 "nbformat": 4,
 "nbformat_minor": 4
}
