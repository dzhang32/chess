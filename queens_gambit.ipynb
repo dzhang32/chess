{
 "cells": [
  {
   "cell_type": "markdown",
   "metadata": {},
   "source": [
    "# How did the Netflix TV show the Queen's Gambit impact online chess?"
   ]
  },
  {
   "cell_type": "markdown",
   "metadata": {},
   "source": [
    "The queen's gambit as a chess opening is played at the highest levels of chess, characterised by: **1. d4, 2. d5, 3. c4**. [*The Queen's Gambit*](https://en.wikipedia.org/wiki/The_Queen%27s_Gambit_(miniseries)) as a TV show depicts Beth Harmon, a chess prodigy who struggles with drug addiction, conquer a male-dominated chess world. \n",
    "\n",
    "It's no secret that the popularity of *The Queen's Gambit* has caused a [surge in chess interest](https://www.nytimes.com/2020/11/23/arts/television/chess-set-board-sales.html). In fact, I myself am one of the victims, having been re-inspired to pick up online chess more consistently. This has inevitably snowballed into a bit of an addiction, having played [375 rapid games in the last month](https://www.chess.com/games/archive?gameOwner=my_game&gameType=live&gameTypeslive%5B%5D=rapid&rated=rated&endDate%5Bdate%5D=02/01/2021&startDate%5Bdate%5D=01/01/2021&timeSort=desc), with the majority of my games as white beginning with queen's gambit. \n",
    "\n",
    "This lead me to wonder how many other's have been bitten by *The Queen's Gambit* bug. In particular, I think this would be identifiable through metrics in online chess in the 3 following ways: \n",
    "   \n",
    "   1. An increase in the **number of new players** joining online chess websites. \n",
    "   2. An increase in the **popularity of the Queen's Gambit and Sicilian openings**. \n",
    "   3. An increase in the **number of games played by inactive users**. \n",
    "    \n",
    "Here, I try the test these hypotheses using the [chess.com](https://www.chess.com/) data. "
   ]
  },
  {
   "cell_type": "markdown",
   "metadata": {},
   "source": [
    "### Load functions\n",
    "\n",
    "Importing the functions I've written to query the chess.com API [here](https://github.com/dzhang32/chess/blob/main/chess_api.py)."
   ]
  },
  {
   "cell_type": "code",
   "execution_count": 1,
   "metadata": {},
   "outputs": [],
   "source": [
    "import chess_api as chapi\n",
    "import pandas as pd\n",
    "from datetime import datetime\n",
    "from datetime import date\n",
    "from os import listdir"
   ]
  },
  {
   "cell_type": "markdown",
   "metadata": {},
   "source": [
    "### Number of new players\n",
    "\n",
    "*The Queen's Gambit* was released in the UK Netflix on the **23rd October 2020**. In order to see the impact of this on the number of players joining online chess, we'll use the chess.com API to download all the UK-associated players that have joined within a 6 month window before or after October 23rd. \n",
    "\n",
    "To begin, let's grab all the players who have the UK flag. It's worth mentioning that we're limited by how accurately this reflects a user's country of residence during the period after of the Queen's Gambit release."
   ]
  },
  {
   "cell_type": "code",
   "execution_count": 3,
   "metadata": {},
   "outputs": [
    {
     "name": "stdout",
     "output_type": "stream",
     "text": [
      "There are 231904 players that have the UK flag.\n"
     ]
    }
   ],
   "source": [
    "uk_players = chapi.get_json('https://api.chess.com/pub/country/GB/players/')['players']\n",
    "\n",
    "print('There are ' + str(len(uk_players)) + ' players that have the UK flag.')"
   ]
  },
  {
   "cell_type": "markdown",
   "metadata": {},
   "source": [
    "Next, we find date that these user's joined chess.com. "
   ]
  },
  {
   "cell_type": "code",
   "execution_count": 9,
   "metadata": {},
   "outputs": [
    {
     "data": {
      "text/html": [
       "<div>\n",
       "<style scoped>\n",
       "    .dataframe tbody tr th:only-of-type {\n",
       "        vertical-align: middle;\n",
       "    }\n",
       "\n",
       "    .dataframe tbody tr th {\n",
       "        vertical-align: top;\n",
       "    }\n",
       "\n",
       "    .dataframe thead th {\n",
       "        text-align: right;\n",
       "    }\n",
       "</style>\n",
       "<table border=\"1\" class=\"dataframe\">\n",
       "  <thead>\n",
       "    <tr style=\"text-align: right;\">\n",
       "      <th></th>\n",
       "      <th>joined</th>\n",
       "    </tr>\n",
       "  </thead>\n",
       "  <tbody>\n",
       "    <tr>\n",
       "      <th>0</th>\n",
       "      <td>2008-12-18 11:39:20</td>\n",
       "    </tr>\n",
       "    <tr>\n",
       "      <th>1</th>\n",
       "      <td>2011-07-20 21:39:45</td>\n",
       "    </tr>\n",
       "    <tr>\n",
       "      <th>2</th>\n",
       "      <td>2011-02-19 03:40:09</td>\n",
       "    </tr>\n",
       "    <tr>\n",
       "      <th>3</th>\n",
       "      <td>2012-11-30 13:40:17</td>\n",
       "    </tr>\n",
       "    <tr>\n",
       "      <th>4</th>\n",
       "      <td>2011-04-07 20:36:09</td>\n",
       "    </tr>\n",
       "  </tbody>\n",
       "</table>\n",
       "</div>"
      ],
      "text/plain": [
       "               joined\n",
       "0 2008-12-18 11:39:20\n",
       "1 2011-07-20 21:39:45\n",
       "2 2011-02-19 03:40:09\n",
       "3 2012-11-30 13:40:17\n",
       "4 2011-04-07 20:36:09"
      ]
     },
     "execution_count": 9,
     "metadata": {},
     "output_type": "execute_result"
    }
   ],
   "source": [
    "# due to having to query one player at a time\n",
    "# this process takes a while\n",
    "# to save time, we'll save the join dates\n",
    "join_dates_path = [path for path in listdir('data') if 'uk_players_joined' in path]\n",
    "\n",
    "if len(join_dates_path) == 0:\n",
    "\n",
    "    join_dates = []\n",
    "\n",
    "    for i in range(100):\n",
    "\n",
    "        player = chapi.get_player(uk_players[i])\n",
    "        join_dates.append(player['joined'])\n",
    "\n",
    "    join_dates = pd.DataFrame({'joined': join_dates})\n",
    "\n",
    "    # convert timestamps to dates\n",
    "    join_dates['joined'] = [datetime.fromtimestamp(ts) for ts in join_dates['joined'].tolist()]\n",
    "    join_dates.to_csv('data/uk_players_joined_' + date.today().strftime('%d_%m_%Y') + '.csv', index = False)\n",
    "\n",
    "else:\n",
    "    \n",
    "    join_dates = pd.read_csv('data/' + join_dates_path[0])\n",
    "    \n",
    "join_dates.head()"
   ]
  },
  {
   "cell_type": "code",
   "execution_count": null,
   "metadata": {},
   "outputs": [],
   "source": []
  }
 ],
 "metadata": {
  "kernelspec": {
   "display_name": "Python 3",
   "language": "python",
   "name": "python3"
  },
  "language_info": {
   "codemirror_mode": {
    "name": "ipython",
    "version": 3
   },
   "file_extension": ".py",
   "mimetype": "text/x-python",
   "name": "python",
   "nbconvert_exporter": "python",
   "pygments_lexer": "ipython3",
   "version": "3.8.5"
  }
 },
 "nbformat": 4,
 "nbformat_minor": 4
}
